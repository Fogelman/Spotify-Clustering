{
 "cells": [
  {
   "cell_type": "markdown",
   "metadata": {},
   "source": [
    "## Extraindo uma playlist de um usuário"
   ]
  },
  {
   "cell_type": "code",
   "execution_count": 61,
   "metadata": {
    "collapsed": true
   },
   "outputs": [],
   "source": [
    "import os\n",
    "import json\n",
    "import pandas as pd\n",
    "import numpy as np\n",
    "import io\n",
    "import requests\n",
    "import subprocess "
   ]
  },
  {
   "cell_type": "code",
   "execution_count": 62,
   "metadata": {
    "collapsed": true
   },
   "outputs": [],
   "source": [
    "# generate authorization token\n",
    "def generate_token():\n",
    "    with open('auth.json') as json_file:  \n",
    "            data = json.load(json_file)\n",
    "\n",
    "    auth_64 = data[\"auth_id\"]\n",
    "    \n",
    "    \n",
    "    cmd = ('curl -X \"POST\" -H \"Authorization: Basic {0}\" -d grant_type=client_credentials https://accounts.spotify.com/api/token').format(auth_64)\n",
    "\n",
    "    output = subprocess.check_output(cmd,shell=True)\n",
    "    tmp = json.loads(output)\n",
    "    \n",
    "    return(tmp[\"access_token\"])\n",
    "\n",
    "# get the playlist id from playlist link\n",
    "def playlist_extrator(link):\n",
    "    link = link.split('/')\n",
    "    username = ''\n",
    "    playlist_id = ''\n",
    "    for i in range(0,len(link)):\n",
    "        if link[i] == 'user':\n",
    "            username = link[i+1]\n",
    "        elif link[i] == 'playlist':\n",
    "            playlist_id = link[i+1]\n",
    "        \n",
    "    return (username,playlist_id)\n",
    "# request the playlist info\n",
    "def generate_request(auth,playlist_link):\n",
    "    username,playlist_id = playlist_extrator(playlist_link)\n",
    "    link = ('curl -X GET \"https://api.spotify.com/v1/users/{0}/playlists/{1}/tracks?market=BR\" -H \"Accept: application/json\" -H \"Authorization: Bearer {2}\"'.format(username,playlist_id,auth))\n",
    "    return link\n",
    "\n",
    "\n"
   ]
  },
  {
   "cell_type": "code",
   "execution_count": 63,
   "metadata": {
    "collapsed": true,
    "scrolled": false
   },
   "outputs": [],
   "source": [
    "# lists the musics from a playlist\n",
    "def list_music(auth,playlist_link):\n",
    "    \n",
    "    link  = generate_request(auth,playlist_link)\n",
    "    output = subprocess.check_output(link,shell=True)\n",
    "    obj = json.loads(output)\n",
    "    music = ''\n",
    "    try:\n",
    "        for values in obj['tracks']['items']:\n",
    "            if values['track']['id'] != None:\n",
    "                music += values['track']['id'] +','\n",
    "    except:\n",
    "\n",
    "        for items in obj['items']:\n",
    "            if items['track']['id'] != None:\n",
    "                music += items['track']['id'] +','\n",
    "                \n",
    "    return music\n",
    "\n",
    "# get dictionary of music from list of ids\n",
    "\n",
    "def get_music_from_id(auth,music_list): \n",
    "    all_music_id = ('curl -X GET \"https://api.spotify.com/v1/audio-features/?ids={0}\" -H \"Authorization: Bearer {1}\"'.format(music,auth))   \n",
    "    output = subprocess.check_output(all_music_id,shell=True)\n",
    "    music_feat = json.loads(output)\n",
    "    return music_feat"
   ]
  },
  {
   "cell_type": "code",
   "execution_count": 64,
   "metadata": {
    "collapsed": true,
    "scrolled": true
   },
   "outputs": [],
   "source": [
    "# get means from music from playlist \n",
    "def music_feat_fit(length,music_feat):\n",
    "\n",
    "    feat = music_feat[\"audio_features\"]\n",
    "    feat_mean = dict()\n",
    "    \n",
    "    danceability = []\n",
    "    energy = []\n",
    "    speechiness = []\n",
    "    acousticness = []\n",
    "    instrumentalness = []\n",
    "    valence = []\n",
    "    loudness = []\n",
    "    tempo = []\n",
    "    liveness = []\n",
    "    \n",
    "    if music_feat == False:\n",
    "        \n",
    "        feat_mean['danceability']       = \"None\"\n",
    "        feat_mean['energy']             = \"None\"\n",
    "        feat_mean['speechiness']        = \"None\"\n",
    "        feat_mean['acousticness']       = \"None\"\n",
    "        feat_mean['instrumentalness']   = \"None\"\n",
    "        feat_mean['valence']            = \"None\"\n",
    "        feat_mean['loudness']           = \"None\"\n",
    "        feat_mean['tempo']              = \"None\"\n",
    "        feat_mean['liveness']           = \"None\"\n",
    "\n",
    "        return feat_mean \n",
    "    \n",
    "    for music in feat:\n",
    "        try:\n",
    "            danceability.append(music['danceability'])\n",
    "            energy.append(music['energy'])\n",
    "            speechiness.append(music['speechiness'])\n",
    "            acousticness.append(music['acousticness'])\n",
    "            instrumentalness.append(music['instrumentalness'])\n",
    "            valence.append(music['valence'])\n",
    "            loudness.append(music['loudness'])\n",
    "            tempo.append(music['tempo'])\n",
    "            liveness.append(music['liveness'])\n",
    "        except:\n",
    "            pass\n",
    "        \n",
    "    danceability = pd.Series(danceability)\n",
    "    energy = pd.Series(energy)\n",
    "    speechiness = pd.Series(speechiness)\n",
    "    acousticness = pd.Series(acousticness)\n",
    "    instrumentalness = pd.Series(instrumentalness)\n",
    "    valence = pd.Series(valence)\n",
    "    loudness = pd.Series(loudness)\n",
    "    tempo = pd.Series(tempo)\n",
    "    liveness = pd.Series(liveness)\n",
    "       \n",
    "    feat_mean['danceability']       = np.mean(danceability)\n",
    "    feat_mean['energy']             = np.mean(energy)\n",
    "    feat_mean['speechiness']        = np.mean(speechiness) \n",
    "    feat_mean['acousticness']       = np.mean(acousticness)\n",
    "    feat_mean['instrumentalness']   = np.mean(instrumentalness)\n",
    "    feat_mean['valence']            = np.mean(valence)\n",
    "    feat_mean['loudness']           = np.mean(loudness)\n",
    "    feat_mean['tempo']              = np.mean(tempo)\n",
    "    feat_mean['liveness']           = np.mean(liveness)\n",
    "    \n",
    "    return feat_mean "
   ]
  },
  {
   "cell_type": "code",
   "execution_count": 70,
   "metadata": {
    "collapsed": true
   },
   "outputs": [],
   "source": [
    "# Link da tabela das resposta do form\n",
    "with open('auth.json') as json_file:  \n",
    "            data = json.load(json_file)\n",
    "\n",
    "# Criar um dataframe pelo CSV da tabela      \n",
    "url = data['url']\n",
    "s=requests.get(url).content\n",
    "df=pd.read_csv(io.StringIO(s.decode('utf-8')))\n"
   ]
  },
  {
   "cell_type": "markdown",
   "metadata": {},
   "source": [
    "## Analisando os atributos de cada playlist"
   ]
  },
  {
   "cell_type": "code",
   "execution_count": 72,
   "metadata": {},
   "outputs": [
    {
     "name": "stdout",
     "output_type": "stream",
     "text": [
      "4.0 %\n",
      "8.0 %\n",
      "12.0 %\n",
      "16.0 %\n",
      "20.0 %\n",
      "24.0 %\n",
      "28.0 %\n",
      "32.0 %\n",
      "36.0 %\n",
      "40.0 %\n",
      "44.0 %\n",
      "48.0 %\n",
      "52.0 %\n",
      "56.0 %\n",
      "60.0 %\n",
      "64.0 %\n",
      "68.0 %\n",
      "72.0 %\n",
      "76.0 %\n",
      "80.0 %\n",
      "84.0 %\n",
      "88.0 %\n",
      "92.0 %\n",
      "96.0 %\n",
      "100.0 %\n"
     ]
    }
   ],
   "source": [
    "auth = generate_token()\n",
    "\n",
    "for i, trial in df.iterrows():\n",
    "\n",
    "    playlist_link = (trial[3])\n",
    "    music = list_music(auth,playlist_link)\n",
    "    music_feat = get_music_from_id(auth, music)\n",
    "    ind_mean = music_feat_fit(len(music_feat[\"audio_features\"]),music_feat) \n",
    "\n",
    "    df.loc[i, \"danceability\"]      = str(ind_mean[\"danceability\"])         \n",
    "    df.loc[i, \"energy\"]            = str(ind_mean[\"energy\"])   \n",
    "    df.loc[i, \"speechiness\"]       = str(ind_mean[\"speechiness\"])        \n",
    "    df.loc[i, \"acousticness\"]      = str(ind_mean[\"acousticness\"])         \n",
    "    df.loc[i, \"instrumentalness\"]  = str(ind_mean[\"instrumentalness\"])             \n",
    "    df.loc[i, \"valence\"]           = str(ind_mean[\"valence\"])\n",
    "    df.loc[i, \"loudness\"]          = str(ind_mean[\"loudness\"])\n",
    "    df.loc[i, \"tempo\"]             = str(ind_mean[\"tempo\"])\n",
    "    df.loc[i, \"liveness\"]          = str(ind_mean[\"liveness\"]) \n",
    "    print(((i+1)/len(df)*100),\"%\")\n"
   ]
  },
  {
   "cell_type": "code",
   "execution_count": 76,
   "metadata": {},
   "outputs": [],
   "source": [
    "# Deletando informações pessoais (e-mail e link da playlist do spotify)\n",
    "try:\n",
    "    del df['Email Address']\n",
    "    del df['Link da sua playlist favorita do Spotify']\n",
    "except:\n",
    "    pass\n",
    "\n",
    "# df"
   ]
  },
  {
   "cell_type": "code",
   "execution_count": 74,
   "metadata": {},
   "outputs": [],
   "source": [
    "# Salvando base de dados para o excel\n",
    "writer = pd.ExcelWriter('Respostas.xlsx')\n",
    "df.to_excel(writer,'Sheet1')\n",
    "writer.save()"
   ]
  },
  {
   "cell_type": "markdown",
   "metadata": {},
   "source": [
    "##### Feature extraction|Test cluestering(teste/treinamento)"
   ]
  },
  {
   "cell_type": "code",
   "execution_count": null,
   "metadata": {
    "collapsed": true
   },
   "outputs": [],
   "source": []
  },
  {
   "cell_type": "code",
   "execution_count": null,
   "metadata": {
    "collapsed": true
   },
   "outputs": [],
   "source": []
  }
 ],
 "metadata": {
  "kernelspec": {
   "display_name": "Python 3",
   "language": "python",
   "name": "python3"
  },
  "language_info": {
   "codemirror_mode": {
    "name": "ipython",
    "version": 3
   },
   "file_extension": ".py",
   "mimetype": "text/x-python",
   "name": "python",
   "nbconvert_exporter": "python",
   "pygments_lexer": "ipython3",
   "version": "3.6.1"
  }
 },
 "nbformat": 4,
 "nbformat_minor": 2
}
