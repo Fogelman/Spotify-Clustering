{
 "cells": [
  {
   "cell_type": "markdown",
   "metadata": {},
   "source": [
    "## Extraindo uma playlist de um usuário"
   ]
  },
  {
   "cell_type": "code",
   "execution_count": 1,
   "metadata": {
    "collapsed": true
   },
   "outputs": [],
   "source": [
    "import os\n",
    "import json\n",
    "import pandas as pd\n",
    "import numpy as np\n",
    "import io\n",
    "import requests\n",
    "import subprocess \n",
    "from numpy import array\n",
    "import matplotlib.pyplot as plt\n",
    "from IPython.display import clear_output\n",
    "import time"
   ]
  },
  {
   "cell_type": "code",
   "execution_count": 2,
   "metadata": {
    "collapsed": true
   },
   "outputs": [],
   "source": [
    "# generate authorization token\n",
    "def generate_token():\n",
    "    with open('auth.json') as json_file:  \n",
    "            data = json.load(json_file)\n",
    "\n",
    "    auth_64 = data[\"auth_id\"]\n",
    "    \n",
    "    \n",
    "    cmd = ('curl -X \"POST\" -H \"Authorization: Basic {0}\" -d grant_type=client_credentials https://accounts.spotify.com/api/token').format(auth_64)\n",
    "\n",
    "    output = subprocess.check_output(cmd,shell=True)\n",
    "    tmp = json.loads(output)\n",
    "    \n",
    "    return(tmp[\"access_token\"])\n",
    "\n",
    "# get the playlist id from playlist link\n",
    "def playlist_extrator(link):\n",
    "    link = str(link)\n",
    "    link = link.split('/')\n",
    "    username = ''\n",
    "    playlist_id = ''\n",
    "    for i in range(0,len(link)):\n",
    "        if link[i] == 'user':\n",
    "            username = link[i+1]\n",
    "        elif link[i] == 'playlist':\n",
    "            playlist_id = link[i+1]\n",
    "        \n",
    "    return (username,playlist_id)\n",
    "# request the playlist info\n",
    "def generate_request(auth,playlist_link):\n",
    "    username,playlist_id = playlist_extrator(playlist_link)\n",
    "    link = ('curl -X GET \"https://api.spotify.com/v1/users/{0}/playlists/{1}/tracks?market=BR\" -H \"Accept: application/json\" -H \"Authorization: Bearer {2}\"'.format(username,playlist_id,auth))\n",
    "    return link\n",
    "\n",
    "\n"
   ]
  },
  {
   "cell_type": "code",
   "execution_count": 3,
   "metadata": {
    "collapsed": true,
    "scrolled": false
   },
   "outputs": [],
   "source": [
    "# lists the musics from a playlist\n",
    "def list_music(auth,playlist_link):\n",
    "    \n",
    "    link  = generate_request(auth,playlist_link)\n",
    "    output = subprocess.check_output(link,shell=True)\n",
    "    obj = json.loads(output)\n",
    "    music = ''\n",
    "    try:\n",
    "        for values in obj['tracks']['items']:\n",
    "            if values['track']['id'] != None:\n",
    "                music += values['track']['id'] +','\n",
    "    except:\n",
    "\n",
    "        for items in obj['items']:\n",
    "            if items['track']['id'] != None:\n",
    "                music += items['track']['id'] +','\n",
    "                \n",
    "    return music\n",
    "\n",
    "# get dictionary of music from list of ids\n",
    "\n",
    "def get_music_from_id(auth,music_list): \n",
    "    all_music_id = ('curl -X GET \"https://api.spotify.com/v1/audio-features/?ids={0}\" -H \"Authorization: Bearer {1}\"'.format(music,auth))   \n",
    "    output = subprocess.check_output(all_music_id,shell=True)\n",
    "    music_feat = json.loads(output)\n",
    "    return music_feat"
   ]
  },
  {
   "cell_type": "code",
   "execution_count": 4,
   "metadata": {
    "collapsed": true,
    "scrolled": true
   },
   "outputs": [],
   "source": [
    "# get means from music from playlist \n",
    "def music_feat_fit(length,music_feat):\n",
    "\n",
    "    feat = music_feat[\"audio_features\"]\n",
    "    feat_mean = dict()\n",
    "    \n",
    "    danceability = []\n",
    "    energy = []\n",
    "    speechiness = []\n",
    "    acousticness = []\n",
    "    instrumentalness = []\n",
    "    valence = []\n",
    "    loudness = []\n",
    "    tempo = []\n",
    "    liveness = []\n",
    "    \n",
    "    if music_feat == False:\n",
    "        \n",
    "        feat_mean['danceability']       = \"None\"\n",
    "        feat_mean['energy']             = \"None\"\n",
    "        feat_mean['speechiness']        = \"None\"\n",
    "        feat_mean['acousticness']       = \"None\"\n",
    "        feat_mean['instrumentalness']   = \"None\"\n",
    "        feat_mean['valence']            = \"None\"\n",
    "        feat_mean['loudness']           = \"None\"\n",
    "        feat_mean['tempo']              = \"None\"\n",
    "        feat_mean['liveness']           = \"None\"\n",
    "\n",
    "        return feat_mean \n",
    "    \n",
    "    for music in feat:\n",
    "        try:\n",
    "            danceability.append(music['danceability'])\n",
    "            energy.append(music['energy'])\n",
    "            speechiness.append(music['speechiness'])\n",
    "            acousticness.append(music['acousticness'])\n",
    "            instrumentalness.append(music['instrumentalness'])\n",
    "            valence.append(music['valence'])\n",
    "            loudness.append(music['loudness'])\n",
    "            tempo.append(music['tempo'])\n",
    "            liveness.append(music['liveness'])\n",
    "        except:\n",
    "            pass\n",
    "        \n",
    "    danceability = pd.Series(danceability)\n",
    "    energy = pd.Series(energy)\n",
    "    speechiness = pd.Series(speechiness)\n",
    "    acousticness = pd.Series(acousticness)\n",
    "    instrumentalness = pd.Series(instrumentalness)\n",
    "    valence = pd.Series(valence)\n",
    "    loudness = pd.Series(loudness)\n",
    "    tempo = pd.Series(tempo)\n",
    "    liveness = pd.Series(liveness)\n",
    "       \n",
    "    feat_mean['danceability']       = np.mean(danceability)\n",
    "    feat_mean['energy']             = np.mean(energy)\n",
    "    feat_mean['speechiness']        = np.mean(speechiness) \n",
    "    feat_mean['acousticness']       = np.mean(acousticness)\n",
    "    feat_mean['instrumentalness']   = np.mean(instrumentalness)\n",
    "    feat_mean['valence']            = np.mean(valence)\n",
    "    feat_mean['loudness']           = np.mean(loudness)\n",
    "    feat_mean['tempo']              = np.mean(tempo)\n",
    "    feat_mean['liveness']           = np.mean(liveness)\n",
    "    \n",
    "    return feat_mean "
   ]
  },
  {
   "cell_type": "code",
   "execution_count": 5,
   "metadata": {
    "collapsed": true
   },
   "outputs": [],
   "source": [
    "# Link da tabela das resposta do form\n",
    "with open('auth.json') as json_file:  \n",
    "            data = json.load(json_file)\n",
    "\n",
    "# Criar um dataframe pelo CSV da tabela      \n",
    "url = data['url']\n",
    "s=requests.get(url).content\n",
    "df=pd.read_csv(io.StringIO(s.decode('utf-8')))\n"
   ]
  },
  {
   "cell_type": "markdown",
   "metadata": {},
   "source": [
    "## Analisando os atributos de cada playlist"
   ]
  },
  {
   "cell_type": "code",
   "execution_count": 6,
   "metadata": {},
   "outputs": [
    {
     "name": "stdout",
     "output_type": "stream",
     "text": [
      "100.0 %\n"
     ]
    }
   ],
   "source": [
    "auth = generate_token()\n",
    "\n",
    "for i, trial in df.iterrows():\n",
    "#     print(len(trial))\n",
    "    \n",
    "#     print(trial[5])\n",
    "    if len(trial)<=4 or str(trial[5])==\"nan\": \n",
    "        playlist_link = (trial[3])\n",
    "        music = list_music(auth,playlist_link)\n",
    "        music_feat = get_music_from_id(auth, music)\n",
    "        ind_mean = music_feat_fit(len(music_feat[\"audio_features\"]),music_feat) \n",
    "\n",
    "        df.loc[i, \"danceability\"]      = str(ind_mean[\"danceability\"])         \n",
    "        df.loc[i, \"energy\"]            = str(ind_mean[\"energy\"])   \n",
    "        df.loc[i, \"speechiness\"]       = str(ind_mean[\"speechiness\"])        \n",
    "        df.loc[i, \"acousticness\"]      = str(ind_mean[\"acousticness\"])         \n",
    "        df.loc[i, \"instrumentalness\"]  = str(ind_mean[\"instrumentalness\"])             \n",
    "        df.loc[i, \"valence\"]           = str(ind_mean[\"valence\"])\n",
    "        df.loc[i, \"loudness\"]          = str(ind_mean[\"loudness\"])\n",
    "        df.loc[i, \"tempo\"]             = str(ind_mean[\"tempo\"])\n",
    "        df.loc[i, \"liveness\"]          = str(ind_mean[\"liveness\"])\n",
    "    else:\n",
    "        time.sleep(0.5)\n",
    "    clear_output()\n",
    "    print(((i+1)/len(df)*100),\"%\")\n",
    "        \n"
   ]
  },
  {
   "cell_type": "code",
   "execution_count": 28,
   "metadata": {
    "collapsed": true
   },
   "outputs": [],
   "source": [
    "# Deletando informações pessoais (e-mail e link da playlist do spotify)\n",
    "try:\n",
    "    del df[\"group\"]\n",
    "    df_names = df['Nome Completo']\n",
    "    del df ['Nome Completo']\n",
    "    del df['Timestamp']\n",
    "    del df['Email Address']\n",
    "    del df['Link da sua playlist favorita do Spotify']\n",
    "except:\n",
    "    pass\n",
    "\n",
    "# df"
   ]
  },
  {
   "cell_type": "code",
   "execution_count": 29,
   "metadata": {
    "collapsed": true
   },
   "outputs": [],
   "source": [
    "# Salvando base de dados para o excel\n",
    "writer = pd.ExcelWriter('Respostas.xlsx')\n",
    "df.to_excel(writer,'Sheet1')\n",
    "writer.save()"
   ]
  },
  {
   "cell_type": "code",
   "execution_count": 30,
   "metadata": {},
   "outputs": [],
   "source": [
    "teste = json.loads(df.to_json())"
   ]
  },
  {
   "cell_type": "code",
   "execution_count": 31,
   "metadata": {
    "scrolled": true
   },
   "outputs": [],
   "source": [
    "values = []\n",
    "\n",
    "for coluna in teste.keys():\n",
    "    buffer = []\n",
    "    buffer.append(coluna)\n",
    "    for valor in teste[coluna].keys():\n",
    "        buffer.append(teste[coluna][valor])\n",
    "    values.append(buffer)\n"
   ]
  },
  {
   "cell_type": "code",
   "execution_count": null,
   "metadata": {},
   "outputs": [],
   "source": []
  },
  {
   "cell_type": "code",
   "execution_count": 32,
   "metadata": {},
   "outputs": [],
   "source": [
    "#https://www.youtube.com/watch?v=vISRn5qFrkM (tutorial)\n",
    "import gspread\n",
    "from oauth2client.service_account import ServiceAccountCredentials\n",
    "\n",
    "scope = ['https://spreadsheets.google.com/feeds']\n",
    "creds = ServiceAccountCredentials.from_json_keyfile_name('client_secret.json',scope)\n",
    "client = gspread.authorize(creds)\n",
    "\n",
    "sheet = client.open('Teste_append').sheet1\n",
    "\n",
    "cell_list = sheet.range(\"A1:C7\")\n",
    "\n"
   ]
  },
  {
   "cell_type": "code",
   "execution_count": 33,
   "metadata": {},
   "outputs": [],
   "source": [
    "#g = sheet.cell(row, col)\n",
    "#g = sheet.row_values(linha)\n",
    "#g[2]"
   ]
  },
  {
   "cell_type": "code",
   "execution_count": 34,
   "metadata": {},
   "outputs": [],
   "source": [
    "titulos = df.keys()\n",
    "coluna = 1\n",
    "for i in titulos:\n",
    "    sheet.update_cell(1,coluna,i)\n",
    "    coluna += 1"
   ]
  },
  {
   "cell_type": "code",
   "execution_count": 35,
   "metadata": {},
   "outputs": [
    {
     "data": {
      "text/plain": [
       "Index(['danceability', 'energy', 'speechiness', 'acousticness',\n",
       "       'instrumentalness', 'valence', 'loudness', 'tempo', 'liveness'],\n",
       "      dtype='object')"
      ]
     },
     "execution_count": 35,
     "metadata": {},
     "output_type": "execute_result"
    }
   ],
   "source": [
    "df.keys()"
   ]
  },
  {
   "cell_type": "code",
   "execution_count": 36,
   "metadata": {},
   "outputs": [],
   "source": [
    "#coluna = 1\n",
    "#start_linha = 1\n",
    "#for col in values:\n",
    "#    linha = start_linha\n",
    "#    for valor in col:\n",
    "#        sheet.update_cell(linha,coluna,valor)\n",
    "#        linha += 1\n",
    "#    coluna += 1"
   ]
  },
  {
   "cell_type": "code",
   "execution_count": null,
   "metadata": {},
   "outputs": [],
   "source": []
  },
  {
   "cell_type": "code",
   "execution_count": null,
   "metadata": {},
   "outputs": [],
   "source": []
  },
  {
   "cell_type": "code",
   "execution_count": null,
   "metadata": {},
   "outputs": [],
   "source": []
  },
  {
   "cell_type": "markdown",
   "metadata": {},
   "source": [
    "##### Feature extraction|Test cluestering(teste/treinamento)"
   ]
  },
  {
   "cell_type": "code",
   "execution_count": 38,
   "metadata": {},
   "outputs": [
    {
     "name": "stdout",
     "output_type": "stream",
     "text": [
      "28    Luciana de Freitas\n",
      "Name: Nome Completo, dtype: object\n"
     ]
    },
    {
     "data": {
      "image/png": "[encoded data removed]",
      "text/plain": [
       "<matplotlib.figure.Figure at 0x177fdaaf1d0>"
      ]
     },
     "metadata": {},
     "output_type": "display_data"
    }
   ],
   "source": [
    "%matplotlib inline\n",
    "import numpy as np\n",
    "from sklearn.decomposition import PCA\n",
    "X = np.array(df)\n",
    "pca = PCA(n_components=2)\n",
    "pca.fit(X)\n",
    "\n",
    "num_pessoa = 28\n",
    "num_pessoa_1 = num_pessoa+1\n",
    "if num_pessoa >= len(df_names):\n",
    "    num_pessoa_1 = num_pessoa\n",
    "print(df_names[num_pessoa:num_pessoa_1])\n",
    "\n",
    "reduct = pca.transform(X)\n",
    "plt.scatter(reduct[:,0],reduct[:,1])\n",
    "\n",
    "plt.plot(reduct[num_pessoa,0],reduct[num_pessoa,1],'ro')\n",
    "plt.show()\n",
    "\n",
    "# print(pca.get_precision())\n",
    "# print(pca.score_samples(A))\n",
    "# print(pca.explained_variance_ratio_)  \n",
    "# print(reduct)\n",
    "# print(pca.singular_values_)\n",
    "\n"
   ]
  },
  {
   "cell_type": "code",
   "execution_count": 39,
   "metadata": {},
   "outputs": [
    {
     "data": {
      "text/plain": [
       "37"
      ]
     },
     "execution_count": 39,
     "metadata": {},
     "output_type": "execute_result"
    }
   ],
   "source": [
    "# df_names\n",
    "len(reduct)"
   ]
  },
  {
   "cell_type": "code",
   "execution_count": 40,
   "metadata": {
    "collapsed": true
   },
   "outputs": [],
   "source": [
    "# reduct[29]"
   ]
  },
  {
   "cell_type": "code",
   "execution_count": 41,
   "metadata": {
    "scrolled": false
   },
   "outputs": [
    {
     "data": {
      "image/png": "[encoded data removed]",
      "text/plain": [
       "<matplotlib.figure.Figure at 0x17780282400>"
      ]
     },
     "metadata": {},
     "output_type": "display_data"
    }
   ],
   "source": [
    "# %matplotlib notebook\n",
    "from mpl_toolkits import mplot3d\n",
    "A = np.array(df)\n",
    "pca = PCA(n_components=4)\n",
    "pca.fit(A)\n",
    "\n",
    "# print(pca.get_precision(A))\n",
    "\n",
    "Areduct = pca.transform(A)\n",
    "\n",
    "x = Areduct[:,0] \n",
    "y = Areduct[:,1]\n",
    "z = Areduct[:,2]\n",
    "c = Areduct[:,3]\n",
    "\n",
    "fig = plt.figure()\n",
    "ax = plt.axes(projection='3d')\n",
    "ax.scatter(x, y, z, c=c)\n",
    "plt.show()"
   ]
  },
  {
   "cell_type": "code",
   "execution_count": 42,
   "metadata": {
    "collapsed": true,
    "scrolled": true
   },
   "outputs": [],
   "source": [
    "from sklearn.cluster import KMeans\n",
    "import numpy as np\n",
    "X = np.array(df)\n",
    "kmeans = KMeans(n_clusters=7, random_state=0).fit(X)\n",
    "kmeans.labels_\n",
    "\n",
    "# print(kmeans.predict([[0, 0], [4, 4]]))\n",
    "\n",
    "# print(kmeans.cluster_centers_)\n",
    "\n",
    "cluster_2D = kmeans.transform(df)\n",
    "# plt.scatter(cluster_2D[:,0])\n",
    "# plt.show()\n",
    "\n",
    "# cent, var = cluster_2D[3]\n",
    "# #use vq() to get as assignment for each obs.\n",
    "# assignment,cdist = cluster.vq.vq(tests,cent)\n",
    "# pyplot.scatter(tests[:,0], tests[:,1], c=assignment)\n",
    "# pyplot.show()\n",
    "# print(cluster_2D)"
   ]
  },
  {
   "cell_type": "code",
   "execution_count": 43,
   "metadata": {
    "scrolled": false
   },
   "outputs": [
    {
     "name": "stdout",
     "output_type": "stream",
     "text": [
      "Cluster 0 contains 12 samples\n",
      "Cluster 1 contains 8 samples\n",
      "Cluster 2 contains 8 samples\n",
      "Cluster 3 contains 2 samples\n",
      "Cluster 4 contains 7 samples\n"
     ]
    },
    {
     "data": {
      "image/png": "[encoded data removed]",
      "text/plain": [
       "<matplotlib.figure.Figure at 0x17780480400>"
      ]
     },
     "metadata": {},
     "output_type": "display_data"
    }
   ],
   "source": [
    "from matplotlib import style\n",
    "style.use(\"ggplot\")\n",
    "from collections import Counter\n",
    "from mpl_toolkits.mplot3d import Axes3D\n",
    "from pylab import *\n",
    "\n",
    "# X = np.array([[1, 2, 5],\n",
    "#               [5, 8, 2],\n",
    "#               [1.5, 1.8, 6],\n",
    "#               [8, 8, 9],\n",
    "#               [1, 0.6, 10],\n",
    "#               [2.5, 3.8, 6],\n",
    "#               [2.5, 5.8, 9],\n",
    "#               [5, 8, 3],\n",
    "#               [4, 0.6, 7],\n",
    "#               [2.5, 1.8, 4.6],\n",
    "#               [6.5, 1.8, 12],\n",
    "#               [7, 8, 9],\n",
    "#               [2, 0.6, 7],\n",
    "#               [5.5, 1.8, 4],\n",
    "#               [4.8, 6.9, 6],\n",
    "#               [4.9, 9.8, 2],\n",
    "#               [9, 11, 12]])\n",
    "\n",
    "X = Areduct\n",
    "\n",
    "cluster_num = 5\n",
    "\n",
    "kmeans = KMeans(n_clusters=cluster_num)\n",
    "kmeans.fit(Areduct)\n",
    "\n",
    "centroids = kmeans.cluster_centers_\n",
    "labels = kmeans.labels_\n",
    "\n",
    "# print (\"centroids : \",centroids)\n",
    "\n",
    "# print (\"labels : \", labels)\n",
    "\n",
    "\n",
    "colors = [\"g\",\"r\",\"c\",\"y\",\"slategray\"]\n",
    "\n",
    "color = np.random.rand(cluster_num)\n",
    "\n",
    "c = Counter(labels)\n",
    "\n",
    "\n",
    "fig = figure()\n",
    "ax = fig.gca(projection='3d')\n",
    "\n",
    "\n",
    "for i in range(len(X)):\n",
    "#     print(\"coordinate:\",X[i], \"label:\", labels[i])\n",
    "#     print (\"i : \",i)\n",
    "#     print (\"color[labels[i]] : \",color[labels[i]])\n",
    "    ax.scatter(X[i][0], X[i][1], X[i][2], c=colors[labels[i]]) #color[labels[i]]\n",
    "\n",
    "\n",
    "for cluster_number in range(cluster_num):\n",
    "    print(\"Cluster {} contains {} samples\".format(cluster_number, c[cluster_number]))\n",
    "\n",
    "ax.scatter(centroids[:, 0],centroids[:, 1], centroids[:, 2], marker = \"x\", s=150, linewidths = 5, zorder = 100, c=color)\n",
    "\n",
    "plt.show()"
   ]
  },
  {
   "cell_type": "code",
   "execution_count": null,
   "metadata": {
    "collapsed": true
   },
   "outputs": [],
   "source": []
  }
 ],
 "metadata": {
  "kernelspec": {
   "display_name": "Python 3",
   "language": "python",
   "name": "python3"
  },
  "language_info": {
   "codemirror_mode": {
    "name": "ipython",
    "version": 3
   },
   "file_extension": ".py",
   "mimetype": "text/x-python",
   "name": "python",
   "nbconvert_exporter": "python",
   "pygments_lexer": "ipython3",
   "version": "3.6.1"
  }
 },
 "nbformat": 4,
 "nbformat_minor": 2
}
