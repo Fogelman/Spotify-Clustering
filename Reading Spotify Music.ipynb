{
 "cells": [
  {
   "cell_type": "markdown",
   "metadata": {},
   "source": [
    "## Extraindo uma playlist de um usuário"
   ]
  },
  {
   "cell_type": "markdown",
   "metadata": {},
   "source": [
    "Importando as (muitas) bibliotecas necessárias"
   ]
  },
  {
   "cell_type": "code",
   "execution_count": null,
   "metadata": {
    "collapsed": true
   },
   "outputs": [],
   "source": [
    "%matplotlib notebook\n",
    "#%matplotlib inline\n",
    "\n",
    "import os\n",
    "import json\n",
    "import pandas as pd\n",
    "import numpy as np\n",
    "import io\n",
    "import requests\n",
    "import subprocess \n",
    "from numpy import array\n",
    "import matplotlib.pyplot as plt\n",
    "from IPython.display import clear_output\n",
    "\n",
    "\n",
    "\n",
    "from sklearn.decomposition import PCA\n",
    "from mpl_toolkits import mplot3d\n",
    "from sklearn.cluster import KMeans\n",
    "from sklearn.neighbors import NearestNeighbors\n",
    "\n",
    "\n",
    "from random import shuffle\n",
    "from matplotlib import style\n",
    "style.use(\"ggplot\")\n",
    "from collections import Counter\n",
    "from mpl_toolkits.mplot3d import Axes3D\n",
    "from pylab import *\n",
    "\n"
   ]
  },
  {
   "cell_type": "markdown",
   "metadata": {},
   "source": [
    "Utilizamos uma API do Spotify que retorna diversas features de uma determinada música. Para isso, precisaremos de um auth token.\n",
    "\n",
    "Essas são as funções necessárias para acessar cada música"
   ]
  },
  {
   "cell_type": "code",
   "execution_count": null,
   "metadata": {
    "collapsed": true
   },
   "outputs": [],
   "source": [
    "# generate authorization token\n",
    "def generate_token():\n",
    "    with open('auth.json') as json_file:  \n",
    "            data = json.load(json_file)\n",
    "\n",
    "    auth_64 = data[\"auth_id\"]\n",
    "    \n",
    "    \n",
    "    cmd = ('curl -X \"POST\" -H \"Authorization: Basic {0}\" -d grant_type=client_credentials https://accounts.spotify.com/api/token').format(auth_64)\n",
    "\n",
    "    output = subprocess.check_output(cmd,shell=True)\n",
    "    tmp = json.loads(output)\n",
    "    \n",
    "    return(tmp[\"access_token\"])\n",
    "\n",
    "# get the playlist id from playlist link\n",
    "def playlist_extrator(link):\n",
    "    link = str(link)\n",
    "    link = link.split('/')\n",
    "    username = ''\n",
    "    playlist_id = ''\n",
    "    for i in range(0,len(link)):\n",
    "        if link[i] == 'user':\n",
    "            username = link[i+1]\n",
    "        elif link[i] == 'playlist':\n",
    "            playlist_id = link[i+1]\n",
    "        \n",
    "    return (username,playlist_id)\n",
    "# request the playlist info\n",
    "def generate_request(auth,playlist_link):\n",
    "    username,playlist_id = playlist_extrator(playlist_link)\n",
    "    link = ('curl -X GET \"https://api.spotify.com/v1/users/{0}/playlists/{1}/tracks?market=BR\" -H \"Accept: application/json\" -H \"Authorization: Bearer {2}\"'.format(username,playlist_id,auth))\n",
    "    return link\n",
    "\n",
    "\n"
   ]
  },
  {
   "cell_type": "code",
   "execution_count": null,
   "metadata": {
    "collapsed": true,
    "scrolled": false
   },
   "outputs": [],
   "source": [
    "# lists the musics from a playlist\n",
    "def list_music(auth,playlist_link):\n",
    "    \n",
    "    link  = generate_request(auth,playlist_link)\n",
    "    output = subprocess.check_output(link,shell=True)\n",
    "    obj = json.loads(output)\n",
    "    music = ''\n",
    "    try:\n",
    "        for values in obj['tracks']['items']:\n",
    "            if values['track']['id'] != None:\n",
    "                music += values['track']['id'] +','\n",
    "    except:\n",
    "\n",
    "        for items in obj['items']:\n",
    "            if items['track']['id'] != None:\n",
    "                music += items['track']['id'] +','\n",
    "                \n",
    "    return music\n",
    "\n",
    "# get dictionary of music from list of ids\n",
    "\n",
    "def get_music_from_id(auth,music_list): \n",
    "    all_music_id = ('curl -X GET \"https://api.spotify.com/v1/audio-features/?ids={0}\" -H \"Authorization: Bearer {1}\"'.format(music,auth))   \n",
    "    output = subprocess.check_output(all_music_id,shell=True)\n",
    "    music_feat = json.loads(output)\n",
    "    return music_feat"
   ]
  },
  {
   "cell_type": "markdown",
   "metadata": {},
   "source": [
    "Agora, com todas as features em cache, calcular a média e chegar no resultado para toda a playlist "
   ]
  },
  {
   "cell_type": "code",
   "execution_count": null,
   "metadata": {
    "collapsed": true,
    "scrolled": true
   },
   "outputs": [],
   "source": [
    "# get means from music from playlist \n",
    "def music_feat_fit(length,music_feat):\n",
    "\n",
    "    feat = music_feat[\"audio_features\"]\n",
    "    feat_mean = dict()\n",
    "    \n",
    "    danceability = []\n",
    "    energy = []\n",
    "    speechiness = []\n",
    "    acousticness = []\n",
    "    instrumentalness = []\n",
    "    valence = []\n",
    "    loudness = []\n",
    "    tempo = []\n",
    "    liveness = []\n",
    "    \n",
    "    if music_feat == False:\n",
    "        \n",
    "        feat_mean['danceability']       = \"None\"\n",
    "        feat_mean['energy']             = \"None\"\n",
    "        feat_mean['speechiness']        = \"None\"\n",
    "        feat_mean['acousticness']       = \"None\"\n",
    "        feat_mean['instrumentalness']   = \"None\"\n",
    "        feat_mean['valence']            = \"None\"\n",
    "        feat_mean['loudness']           = \"None\"\n",
    "        feat_mean['tempo']              = \"None\"\n",
    "        feat_mean['liveness']           = \"None\"\n",
    "\n",
    "        return feat_mean \n",
    "    \n",
    "    for music in feat:\n",
    "        try:\n",
    "            danceability.append(music['danceability'])\n",
    "            energy.append(music['energy'])\n",
    "            speechiness.append(music['speechiness'])\n",
    "            acousticness.append(music['acousticness'])\n",
    "            instrumentalness.append(music['instrumentalness'])\n",
    "            valence.append(music['valence'])\n",
    "            loudness.append(music['loudness'])\n",
    "            tempo.append(music['tempo'])\n",
    "            liveness.append(music['liveness'])\n",
    "        except:\n",
    "            pass\n",
    "        \n",
    "    danceability = pd.Series(danceability)\n",
    "    energy = pd.Series(energy)\n",
    "    speechiness = pd.Series(speechiness)\n",
    "    acousticness = pd.Series(acousticness)\n",
    "    instrumentalness = pd.Series(instrumentalness)\n",
    "    valence = pd.Series(valence)\n",
    "    loudness = pd.Series(loudness)\n",
    "    tempo = pd.Series(tempo)\n",
    "    liveness = pd.Series(liveness)\n",
    "       \n",
    "    feat_mean['danceability']       = np.mean(danceability)\n",
    "    feat_mean['energy']             = np.mean(energy)\n",
    "    feat_mean['speechiness']        = np.mean(speechiness) \n",
    "    feat_mean['acousticness']       = np.mean(acousticness)\n",
    "    feat_mean['instrumentalness']   = np.mean(instrumentalness)\n",
    "    feat_mean['valence']            = np.mean(valence)\n",
    "    feat_mean['loudness']           = np.mean(loudness)\n",
    "    feat_mean['tempo']              = np.mean(tempo)\n",
    "    feat_mean['liveness']           = np.mean(liveness)\n",
    "    \n",
    "    return feat_mean "
   ]
  },
  {
   "cell_type": "code",
   "execution_count": null,
   "metadata": {
    "collapsed": true
   },
   "outputs": [],
   "source": [
    "# Link da tabela das resposta do form\n",
    "with open('auth.json') as json_file:  \n",
    "            data = json.load(json_file)\n",
    "\n",
    "# Criar um dataframe pelo CSV da tabela      \n",
    "url = data['url']\n",
    "s=requests.get(url).content\n",
    "df=pd.read_csv(io.StringIO(s.decode('utf-8')))\n"
   ]
  },
  {
   "cell_type": "markdown",
   "metadata": {},
   "source": [
    "## Analisando os atributos de cada playlist"
   ]
  },
  {
   "cell_type": "code",
   "execution_count": null,
   "metadata": {},
   "outputs": [],
   "source": [
    "auth = generate_token()\n",
    "\n",
    "for i, trial in df.iterrows():\n",
    "\n",
    "    if len(trial)<=4 or str(trial[5])==\"nan\": \n",
    "        playlist_link = (trial[3])\n",
    "        music = list_music(auth,playlist_link)\n",
    "        music_feat = get_music_from_id(auth, music)\n",
    "        ind_mean = music_feat_fit(len(music_feat[\"audio_features\"]),music_feat) \n",
    "\n",
    "        df.loc[i, \"danceability\"]      = str(ind_mean[\"danceability\"])         \n",
    "        df.loc[i, \"energy\"]            = str(ind_mean[\"energy\"])   \n",
    "        df.loc[i, \"speechiness\"]       = str(ind_mean[\"speechiness\"])        \n",
    "        df.loc[i, \"acousticness\"]      = str(ind_mean[\"acousticness\"])         \n",
    "        df.loc[i, \"instrumentalness\"]  = str(ind_mean[\"instrumentalness\"])             \n",
    "        df.loc[i, \"valence\"]           = str(ind_mean[\"valence\"])\n",
    "        df.loc[i, \"loudness\"]          = str(ind_mean[\"loudness\"])\n",
    "        df.loc[i, \"tempo\"]             = str(ind_mean[\"tempo\"])\n",
    "        df.loc[i, \"liveness\"]          = str(ind_mean[\"liveness\"])\n",
    "    \n",
    "    print(((i+1)/len(df)*100),\"%\") #Mostra a porcentagem do processo\n",
    "        \n",
    "clear_output() #Apaga o output da célula"
   ]
  },
  {
   "cell_type": "markdown",
   "metadata": {},
   "source": [
    "## Futuramente, faremos uma implementação contínua que, para cada nova resposta do formulário, calculará as novas features e retornará o e-mail automaticamente"
   ]
  },
  {
   "cell_type": "code",
   "execution_count": null,
   "metadata": {
    "collapsed": true
   },
   "outputs": [],
   "source": [
    "#https://www.youtube.com/watch?v=vISRn5qFrkM (tutorial)\n",
    "import gspread\n",
    "from oauth2client.service_account import ServiceAccountCredentials\n",
    "\n",
    "teste = json.loads(df.to_json())\n",
    "\n",
    "values = []\n",
    "\n",
    "for coluna in teste.keys():\n",
    "    buffer = []\n",
    "    buffer.append(coluna)\n",
    "    for valor in teste[coluna].keys():\n",
    "        buffer.append(teste[coluna][valor])\n",
    "    values.append(buffer)\n",
    "    \n",
    "scope = ['https://spreadsheets.google.com/feeds']\n",
    "creds = ServiceAccountCredentials.from_json_keyfile_name('client_secret.json',scope)\n",
    "client = gspread.authorize(creds)\n",
    "\n",
    "# sheet = client.open('Spotifinder (Responses)').sheet1\n",
    "\n",
    "#cell_list = sheet.range(\"A1:C7\")\n",
    "#g = sheet.cell(row, col)\n",
    "#g = sheet.row_values(linha)\n",
    "#g[2]\n",
    "\n",
    "# titulos = df.keys()\n",
    "# coluna = 1\n",
    "# for i in titulos:\n",
    "#     sheet.update_cell(1,coluna,i)\n",
    "#     coluna += 1"
   ]
  },
  {
   "cell_type": "markdown",
   "metadata": {},
   "source": [
    "### Limpando as informações sensíveis das respostas"
   ]
  },
  {
   "cell_type": "code",
   "execution_count": null,
   "metadata": {
    "collapsed": true
   },
   "outputs": [],
   "source": [
    "# Deletando informações pessoais (e-mail e link da playlist do spotify)\n",
    "try:\n",
    "    df_names = df['Nome Completo']\n",
    "    df_email = df['Email Address']\n",
    "    del df['Nome Completo']\n",
    "    del df['Timestamp']\n",
    "    del df['Email Address']\n",
    "    del df['Link da sua playlist favorita do Spotify']\n",
    "    del df['group']\n",
    "    \n",
    "except:\n",
    "    pass\n"
   ]
  },
  {
   "cell_type": "code",
   "execution_count": null,
   "metadata": {
    "collapsed": true
   },
   "outputs": [],
   "source": [
    "\n",
    "# Salvando base de dados para o excel\n",
    "writer = pd.ExcelWriter('Respostas.xlsx')\n",
    "df.to_excel(writer,'Sheet1')\n",
    "writer.save()\n",
    "\n",
    "# Colocar os indices entre 1 e 0\n",
    "from sklearn import preprocessing\n",
    "\n",
    "x = df.values #returns a numpy array\n",
    "min_max_scaler = preprocessing.MinMaxScaler((-1,1))\n",
    "x_scaled = min_max_scaler.fit_transform(x)\n",
    "df = pd.DataFrame(x_scaled)\n",
    "\n",
    "df.columns=['danceability', 'energy', 'speechiness', 'acousticness',\n",
    "       'instrumentalness', 'valence', 'loudness', 'tempo', 'liveness']"
   ]
  },
  {
   "cell_type": "markdown",
   "metadata": {},
   "source": [
    "### Feature extraction|Test cluestering(teste/treinamento)\n",
    "### Aplicação do PCA para redução de 9 para 2 dimensões"
   ]
  },
  {
   "cell_type": "code",
   "execution_count": null,
   "metadata": {},
   "outputs": [],
   "source": [
    "%matplotlib inline\n",
    "\n",
    "X = np.array(df)\n",
    "pca = PCA(n_components=2)\n",
    "pca.fit(X)\n",
    "\n",
    "num_pessoa = 0\n",
    "num_pessoa_1 = num_pessoa+1\n",
    "if num_pessoa >= len(df_names):\n",
    "    num_pessoa_1 = num_pessoa\n",
    "print(df_names[num_pessoa:num_pessoa_1])\n",
    "\n",
    "reduct = pca.transform(X)\n",
    "plt.scatter(reduct[:,0],reduct[:,1],c = 'b')\n",
    "\n",
    "plt.plot(reduct[num_pessoa,0],reduct[num_pessoa,1],'ro')\n",
    "plt.show()"
   ]
  },
  {
   "cell_type": "markdown",
   "metadata": {},
   "source": [
    "##  Aplicação do PCA para redução de 9 para 3 dimensões"
   ]
  },
  {
   "cell_type": "code",
   "execution_count": null,
   "metadata": {
    "scrolled": false
   },
   "outputs": [],
   "source": [
    "\n",
    "\n",
    "A = np.array(df)\n",
    "pca = PCA(n_components=3)\n",
    "pca.fit(A)\n",
    "\n",
    "# print(pca.get_precision(A))\n",
    "\n",
    "Areduct = pca.transform(A)\n",
    "\n",
    "x = Areduct[:,0] \n",
    "y = Areduct[:,1]\n",
    "z = Areduct[:,2]\n",
    "# c = Areduct[:,3]\n",
    "\n",
    "fig = plt.figure()\n",
    "ax = plt.axes(projection='3d')\n",
    "ax.scatter(x, y, z, c=x)\n",
    "plt.show()"
   ]
  },
  {
   "cell_type": "code",
   "execution_count": null,
   "metadata": {
    "scrolled": false
   },
   "outputs": [],
   "source": [
    "#Cluster tridimensional\n",
    "\n",
    "X = Areduct\n",
    "cluster_num = int((len(Areduct))**(1/2))\n",
    "\n",
    "kmeans = KMeans(n_clusters=cluster_num)\n",
    "kmeans.fit(Areduct)\n",
    "\n",
    "centroids = kmeans.cluster_centers_\n",
    "labels = kmeans.labels_\n",
    "\n",
    "colors = ['g','r','c','y','slategray', 'b', 'm']\n",
    "# shuffle(colors)\n",
    "colors = colors[:cluster_num]\n",
    "\n",
    "c = Counter(labels)\n",
    "# print(c)\n",
    "\n",
    "fig = figure(figsize=(10,10))\n",
    "# fig = figure()\n",
    "ax = fig.gca(projection='3d')\n",
    "\n",
    "\n",
    "for i in range(len(X)):\n",
    "    ax.scatter(X[i][0], X[i][1], X[i][2], c=colors[labels[i]]) #color[labels[i]]\n",
    "    pass\n",
    "for cluster_number in range(cluster_num):\n",
    "    print(\"Cluster {} contains {} samples\".format(cluster_number, c[cluster_number]))\n",
    "\n",
    "ax.scatter(centroids[:, 0],centroids[:, 1], centroids[:, 2], marker = \"x\", s=150, linewidths = 5, zorder = 100, c=colors)\n",
    "plt.show()"
   ]
  },
  {
   "cell_type": "code",
   "execution_count": null,
   "metadata": {},
   "outputs": [],
   "source": [
    "#Clusterização com as 2 dimensões\n",
    "X = reduct\n",
    "cluster_num = int((len(reduct))**(1/2))\n",
    "\n",
    "kmeans = KMeans(n_clusters=cluster_num)\n",
    "kmeans.fit(reduct)\n",
    "\n",
    "centroids = kmeans.cluster_centers_\n",
    "labels = kmeans.labels_\n",
    "\n",
    "colors = ['g','r','c','y','slategray', 'b', 'm']\n",
    "# shuffle(colors)\n",
    "colors = colors[:cluster_num]\n",
    "\n",
    "c = Counter(labels)\n",
    "\n",
    "\n",
    "fig = figure()\n",
    "ax = fig.gca()\n",
    "\n",
    "\n",
    "for i in range(len(X)):\n",
    "    ax.scatter(X[i][0], X[i][1], c=colors[labels[i]]) #color[labels[i]]\n",
    "    pass\n",
    "\n",
    "ax.scatter(centroids[:, 0],centroids[:, 1], marker = \"x\", s=120, linewidths = 20, zorder = 10,c=\"k\" )#c=colors\n"
   ]
  },
  {
   "cell_type": "code",
   "execution_count": null,
   "metadata": {
    "collapsed": true,
    "scrolled": true
   },
   "outputs": [],
   "source": [
    "#Adição dos clusters no dataframe\n",
    "df['labels']  = labels\n",
    "Xx = []\n",
    "Xy = []\n",
    "for i in X:\n",
    "    Xx.append(i[0])\n",
    "    Xy.append(i[1])\n",
    "Xx = np.array(Xx)\n",
    "Xy = np.array(Xy)\n",
    "df[\"PCAx\"] = Xx\n",
    "df[\"PCAy\"] = Xy\n",
    "\n",
    "#df = df.sort_values(by=['labels'])\n",
    "def calc_dist(A,B):\n",
    "    dist = math.sqrt((A[1]-B[1])**2+(A[0]-B[0])**2)\n",
    "    return dist\n",
    " \n",
    "df = df.sort_index()\n"
   ]
  },
  {
   "cell_type": "code",
   "execution_count": null,
   "metadata": {
    "scrolled": true
   },
   "outputs": [],
   "source": [
    "#Implementação da função NearestNeighbors para encontrar os *nearestNeighbors ;)\n",
    "for i in list(c.keys()):\n",
    "    DFgrupo = df.loc[df[\"labels\"] == i]\n",
    "    X = DFgrupo.as_matrix([\"PCAx\",\"PCAy\"])\n",
    "    index = list(df[df[\"labels\"] == i].index)\n",
    "    if(len(X) >= 3):\n",
    "        nbrs = NearestNeighbors(n_neighbors=3, algorithm='auto').fit(X)\n",
    "        distances, indices = nbrs.kneighbors(X)\n",
    "        viz1 = []\n",
    "        viz2 = []\n",
    "        for k in indices:\n",
    "            viz1.append(DFgrupo.index[k[1]])\n",
    "            viz2.append(DFgrupo.index[k[2]])\n",
    "\n",
    "        df.loc[df[\"labels\"] == i,'vizinho1'] = viz1\n",
    "        df.loc[df[\"labels\"] == i,'vizinho2'] = viz2\n",
    "    else:\n",
    "        df.loc[df[\"labels\"] == i,'vizinho1'] = index[0]\n",
    "        df.loc[df[\"labels\"] == i,'vizinho2'] = index[1]\n",
    "# df"
   ]
  },
  {
   "cell_type": "code",
   "execution_count": null,
   "metadata": {
    "collapsed": true
   },
   "outputs": [],
   "source": [
    "#Trocar os índices por nomes\n",
    "df['nomes'] = df_names\n",
    "respostas = pd.DataFrame()\n",
    "respostas[\"nome\"] = df[\"nomes\"]\n",
    "viz1 = []\n",
    "viz2 = []\n",
    "for i in range(len(df)):\n",
    "    if df.loc[i,'vizinho1'] != -1:    \n",
    "        viz1.append(df.loc[df.loc[i,'vizinho1'],'nomes'])\n",
    "        viz2.append(df.loc[df.loc[i,'vizinho2'],'nomes'])\n",
    "    else:\n",
    "        viz1.append(-1)\n",
    "        viz2.append(-1)\n",
    "\n",
    "\n",
    "respostas['vizinho1'] = viz1\n",
    "respostas['vizinho2'] = viz2\n",
    "respostas['email'] = df_email"
   ]
  },
  {
   "cell_type": "code",
   "execution_count": null,
   "metadata": {},
   "outputs": [],
   "source": [
    "respostas"
   ]
  },
  {
   "cell_type": "markdown",
   "metadata": {},
   "source": [
    "## Mandando as pessoas compativeis pelo e-mail cadastrado"
   ]
  },
  {
   "cell_type": "code",
   "execution_count": null,
   "metadata": {},
   "outputs": [],
   "source": [
    "import smtplib\n",
    "from email.mime.multipart import MIMEMultipart\n",
    "from email.mime.text import MIMEText\n",
    "\n",
    "\n",
    "\n",
    "\n",
    "with open('auth.json') as json_file:  \n",
    "            data = json.load(json_file)\n",
    "        \n",
    "password = data[\"password_gmail\"]\n",
    "gmail_user = data[\"gmail_user\"]\n",
    "\n",
    "mail = smtplib.SMTP('smtp.gmail.com', 587)\n",
    "mail.ehlo()\n",
    "mail.starttls()\n",
    "mail.login(gmail_user, password)\n",
    "\n",
    "for i, trial in respostas.iterrows():\n",
    "    \n",
    "    to =  respostas.loc[0, \"email\"]\n",
    "    print(respostas.loc[i, \"email\"])\n",
    "    \n",
    "    msg = MIMEMultipart('alternative')\n",
    "    msg['Subject'] = 'Respostas do Formulário Spotifinder Insper'\n",
    "    msg['From'] = gmail_user\n",
    "    msg['To'] = to\n",
    "    \n",
    "    \n",
    "    text = \"\"\n",
    "    html = \"\"\"\\\n",
    "    <html>\n",
    "      <head>\n",
    "      <style>\n",
    "    </style>\n",
    "\n",
    "      </head>\n",
    "      <body>\n",
    "\n",
    "      \"\"\"\n",
    "\n",
    "    end  = \"\"\"\n",
    "      </body>\n",
    "    </html>\n",
    "    \"\"\"\n",
    "\n",
    "    if trial[0] == trial[1] or trial[0] == trial[2]:\n",
    "        \n",
    "        if trial[0] == trial[1]:\n",
    "            outro_nome = trial[2]\n",
    "        else:\n",
    "            outro_nome = trial[1]\n",
    "        \n",
    "        html += \"<p>Prezado(a) {0} \".format(trial[0]) +\\\n",
    "        \"\"\"<br>\n",
    "            <h3>\n",
    "            Aqui está a pessoa que daria uma ótima parceira musical para você!\n",
    "            </h3>\n",
    "            \n",
    "           \"\"\"\n",
    "        \n",
    "        html += \"\"\"\n",
    "\n",
    "        <ul>\n",
    "            <li>{0}</li>\n",
    "        </ul>\n",
    "        <br>\n",
    "\n",
    "\n",
    "            <p>Obrigado por participar!</p>\n",
    "\n",
    "            <p>Boa semana!</p>\n",
    "            <p>Abs, Equipe Spotifinder. </p>\n",
    "        \"\"\".format(outro_nome)\n",
    "\n",
    "    \n",
    "    else:\n",
    "        \n",
    "        html += \"<p>Prezado(a) {0} \".format(trial[0])+\\\n",
    "        \"\"\"<br>\n",
    "            <h3>\n",
    "            Aqui estão as pessoas que dariam ótimas parceiras musicais para você!\n",
    "            </h3>\n",
    "            \n",
    "           \"\"\"\n",
    "        \n",
    "        html += \"\"\"\n",
    "\n",
    "            <ul>\n",
    "            <li>{0}</li>\n",
    "            <br>\n",
    "            <li>{1}</li> \n",
    "            </ul>\n",
    "\n",
    "            <br>\n",
    "            <p>Obrigado por participar!</p>\n",
    "            <p>Se você tiver alguma sugestão é só responder esse e-mail</p>\n",
    "            <p>Boa semana!</p>\n",
    "            <p>Abs, Equipe Spotifinder. </p>\n",
    "        \"\"\".format(trial[1],trial[2])\n",
    "\n",
    "    \n",
    "    html+=end\n",
    "\n",
    "        # Record the MIME types of both parts - text/plain and text/html.\n",
    "    part1 = MIMEText(text, 'plain')\n",
    "    part2 = MIMEText(html, 'html')\n",
    "\n",
    "    msg.attach(part1)\n",
    "    msg.attach(part2)\n",
    "\n",
    "    mail.sendmail(gmail_user, to, msg.as_string())\n",
    "\n",
    "        \n",
    "mail.quit()\n"
   ]
  },
  {
   "cell_type": "code",
   "execution_count": null,
   "metadata": {},
   "outputs": [],
   "source": [
    "respostas.loc[0, \"email\"]"
   ]
  },
  {
   "cell_type": "code",
   "execution_count": null,
   "metadata": {
    "collapsed": true
   },
   "outputs": [],
   "source": []
  }
 ],
 "metadata": {
  "kernelspec": {
   "display_name": "Python 3",
   "language": "python",
   "name": "python3"
  },
  "language_info": {
   "codemirror_mode": {
    "name": "ipython",
    "version": 3
   },
   "file_extension": ".py",
   "mimetype": "text/x-python",
   "name": "python",
   "nbconvert_exporter": "python",
   "pygments_lexer": "ipython3",
   "version": "3.6.1"
  }
 },
 "nbformat": 4,
 "nbformat_minor": 2
}
